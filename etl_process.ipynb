{
 "cells": [
  {
   "cell_type": "code",
   "execution_count": 21,
   "metadata": {},
   "outputs": [],
   "source": [
    "import pandas as pd\n",
    "import os\n",
    "from dotenv import load_dotenv\n",
    "from sqlalchemy import inspect, create_engine\n",
    "from sqlalchemy.exc import IntegrityError\n",
    "from sqlalchemy.sql import text\n",
    "import json\n",
    "from datetime import datetime\n",
    "import time"
   ]
  },
  {
   "cell_type": "code",
   "execution_count": 22,
   "metadata": {},
   "outputs": [
    {
     "data": {
      "text/plain": [
       "True"
      ]
     },
     "execution_count": 22,
     "metadata": {},
     "output_type": "execute_result"
    }
   ],
   "source": [
    "table_names = {\n",
    "    'ft_balance_f': 'utf-8',\n",
    "    'ft_posting_f': 'utf-8',\n",
    "    'md_account_d': 'utf-8',\n",
    "    'md_currency_d': 'mbcs',\n",
    "    'md_exchange_rate_d': 'utf-8',\n",
    "    'md_ledger_account_s': 'oem'\n",
    "}\n",
    "\n",
    "load_dotenv(\".env\")"
   ]
  },
  {
   "cell_type": "code",
   "execution_count": 16,
   "metadata": {},
   "outputs": [],
   "source": [
    "def connect_to_db(db_name, db_user, db_password, db_host, db_port):\n",
    "    \"\"\"Создание движка для подключения к базе данных\n",
    "\n",
    "        :param db_name: название базы данных\n",
    "        :type db_name: str\n",
    "\n",
    "        :param db_user: имя пользователя для подключения к бд\n",
    "        :type db_user: str\n",
    "\n",
    "        :param db_password: пароль пользователя для подключения к бд\n",
    "        :type db_password: str\n",
    "\n",
    "        :param db_host: адрес сервера базы данных\n",
    "        :type db_host: str\n",
    "\n",
    "        :param db_port: порт для подключения\n",
    "        :type db_port: str\n",
    "        \n",
    "        :rtype: объект класса Engine\n",
    "        :return: движок, отвечающий за взаимодействие с базой данных\n",
    "    \"\"\"\n",
    "    try:\n",
    "        engine = create_engine(\n",
    "            f'postgresql+psycopg2://{db_user}:{db_password}@{db_host}:{db_port}/{db_name}')\n",
    "        return engine\n",
    "    except ConnectionError as error:\n",
    "        print(f'Unable to connect to the server: {error}')"
   ]
  },
  {
   "cell_type": "code",
   "execution_count": 4,
   "metadata": {},
   "outputs": [],
   "source": [
    "def extract_data(path_file, code):\n",
    "    \"\"\"Извлечение данных\n",
    "\n",
    "        :param path_file: путь к файлу\n",
    "        :type path_file: str\n",
    "\n",
    "        :param code: кодировка файла\n",
    "        :type code: str\n",
    "\n",
    "        :rtype: DataFrame\n",
    "        :return: извлеченные данные из csv файла\n",
    "    \"\"\"\n",
    "    data = pd.read_csv(path_file, sep=';', encoding=code, na_filter=False) \n",
    "    return data"
   ]
  },
  {
   "cell_type": "code",
   "execution_count": 5,
   "metadata": {},
   "outputs": [],
   "source": [
    "def transform_data(data, table_name):\n",
    "     \"\"\"Трансформация данных\n",
    "\n",
    "          :param data: извлеченные данные из csv файла\n",
    "          :type data: DataFrame\n",
    "\n",
    "          :param table_name: имя файла\n",
    "          :type table_name: str\n",
    "     \"\"\"\n",
    "     data.rename(columns=lambda x: x.lower(), inplace=True)\n",
    "     data.drop(data.columns[[0]], axis=1 , inplace=True)\n",
    "\n",
    "     if table_name == 'md_currency_d':\n",
    "          data.loc[data['currency_code'] == '999', 'code_iso_char'] = 'XXX'"
   ]
  },
  {
   "cell_type": "code",
   "execution_count": 6,
   "metadata": {},
   "outputs": [],
   "source": [
    "def load_to_db(data, table_name, engine):\n",
    "    \"\"\"Загрузка данных в базу данных\n",
    "\n",
    "        :param data: извлеченные данные из csv файла\n",
    "        :type data: DataFrame\n",
    "\n",
    "        :param table_name: имя файла\n",
    "        :type table_name: str\n",
    "\n",
    "        :param engine: движок, отвечающий за взаимодействие с базой данных\n",
    "        :type engine: объект класса Engine\n",
    "    \"\"\"\n",
    "    inspector = inspect(engine)\n",
    "    primary_key_columns = inspector.get_pk_constraint(table_name=table_name, schema='ds')['constrained_columns']\n",
    "     \n",
    "    data_dict = data.to_dict(orient='records')\n",
    "    columns = ', '.join(f':{column}' for column in list(data))\n",
    "\n",
    "    sql_query = text(f\"\"\"\n",
    "            INSERT INTO ds.{table_name} ({', '.join(list(data))})\n",
    "            VALUES ({columns}) \n",
    "            ON CONFLICT ({', '.join(primary_key_columns)}) \n",
    "            DO UPDATE SET ({', '.join(list(data))}) = ({columns})\n",
    "        \"\"\")\n",
    "    \n",
    "    try:\n",
    "        with engine.connect() as conn:\n",
    "            conn.execute(sql_query, data_dict)\n",
    "            conn.commit()\n",
    "    except IntegrityError as error:\n",
    "        print(f'Error adding/updating records: {error}')"
   ]
  },
  {
   "cell_type": "code",
   "execution_count": 25,
   "metadata": {},
   "outputs": [],
   "source": [
    "database_name = os.environ.get('DB_NAME')\n",
    "user_name = os.environ.get('DB_USER')\n",
    "password = os.environ.get('DB_PASSWORD')\n",
    "host = os.environ.get('DB_HOST')\n",
    "port = os.environ.get('DB_PORT')\n",
    "\n",
    "engine = connect_to_db(database_name, user_name, password, host, port)  "
   ]
  },
  {
   "cell_type": "code",
   "execution_count": 26,
   "metadata": {},
   "outputs": [],
   "source": [
    "def etl_process():    \n",
    "    for table_name, code in table_names.items():\n",
    "        start_time = datetime.now()\n",
    "\n",
    "        with engine.connect() as conn:\n",
    "            \n",
    "            try:\n",
    "                data = extract_data(f'csv_file/{table_name}.csv', code)\n",
    "            except Exception as error:\n",
    "                json_str = json.dumps({\"error_message\": str(error)})\n",
    "                conn.execute(text(f\"\"\"\n",
    "                            CALL logs.insert_etl_logs(\n",
    "                                '{start_time}',\n",
    "                                'Error while extracting data from csv file {table_name}.csv',\n",
    "                                'ERROR',\n",
    "                                $${json_str}$$)\n",
    "                            \"\"\"))\n",
    "                conn.commit()\n",
    "                return\n",
    "\n",
    "            try:    \n",
    "                transform_data(data, table_name)\n",
    "            except Exception as error:\n",
    "                json_str = json.dumps({\"error_message\": str(error)})\n",
    "                conn.execute(text(f\"\"\"\n",
    "                            CALL logs.insert_etl_logs(\n",
    "                                '{start_time}',\n",
    "                                'Error while processing data from file {table_name}.csv',\n",
    "                                'ERROR',\n",
    "                                $${json_str}$$)\n",
    "                            \"\"\"))\n",
    "                conn.commit()\n",
    "                return\n",
    "        \n",
    "            try:\n",
    "                load_to_db(data, table_name, engine)\n",
    "            except Exception as error:\n",
    "                json_str = json.dumps({\"error_message\": str(error)})\n",
    "                conn.execute(text(f\"\"\"\n",
    "                            CALL logs.insert_etl_logs(\n",
    "                                '{start_time}',\n",
    "                                'Error loading data into database {table_name} table',\n",
    "                                'ERROR',\n",
    "                                $${json_str}$$)\n",
    "                            \"\"\"))\n",
    "                conn.commit()\n",
    "                return\n",
    "            \n",
    "            time.sleep(5)\n",
    "            conn.execute(text(f\"\"\"\n",
    "                        CALL logs.insert_etl_logs(\n",
    "                            '{start_time}',\n",
    "                            'ETL process table {table_name} completed successfully',\n",
    "                            'INTO',\n",
    "                            null)\n",
    "                        \"\"\"))\n",
    "            conn.commit()"
   ]
  },
  {
   "cell_type": "code",
   "execution_count": 28,
   "metadata": {},
   "outputs": [],
   "source": [
    "etl_process()"
   ]
  }
 ],
 "metadata": {
  "kernelspec": {
   "display_name": "elt_venv",
   "language": "python",
   "name": "python3"
  },
  "language_info": {
   "codemirror_mode": {
    "name": "ipython",
    "version": 3
   },
   "file_extension": ".py",
   "mimetype": "text/x-python",
   "name": "python",
   "nbconvert_exporter": "python",
   "pygments_lexer": "ipython3",
   "version": "3.11.1"
  }
 },
 "nbformat": 4,
 "nbformat_minor": 2
}
